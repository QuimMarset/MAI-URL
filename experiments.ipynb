{
 "cells": [
  {
   "cell_type": "markdown",
   "metadata": {},
   "source": [
    "### Unsupervised Learning : Cluster Assignment\n",
    "\n",
    "#### Paper: Alternatives to the k-means algorithm that find better clusterings\n",
    "\n",
    "#### Author: Joaquim Marset Alsina"
   ]
  },
  {
   "cell_type": "markdown",
   "metadata": {},
   "source": [
    "### Imports"
   ]
  },
  {
   "cell_type": "code",
   "execution_count": null,
   "metadata": {},
   "outputs": [],
   "source": [
    "from algorithms.kmeans import KMeans\n",
    "from algorithms.fuzzy_c_means import FuzzyCMeans\n",
    "from algorithms.k_harmonic_means import KHarmonicMeans\n",
    "from algorithms.hybrid import Hybrid1, Hybrid2\n",
    "from algorithms.gaussian_EM import GaussianEM\n",
    "\n",
    "from datasets.birch_data import generate_birch_data\n",
    "from datasets.pelleg_moore_data import generate_pelleg_moore_data\n",
    "from datasets.hand_image_data import generate_hand_image_data\n",
    "from datasets.clean_adult import preprocess_adult\n",
    "\n",
    "from experiments import experiment_1, experiment_2, experiment_4\n",
    "from constants import *\n",
    "\n",
    "import os\n",
    "import numpy as np\n",
    "import time"
   ]
  },
  {
   "cell_type": "markdown",
   "metadata": {},
   "source": [
    "### Create required folders"
   ]
  },
  {
   "cell_type": "code",
   "execution_count": null,
   "metadata": {},
   "outputs": [],
   "source": [
    "root_path = './'\n",
    "results_path = os.path.join(root_path, 'results')\n",
    "experiment_1_results_path = os.path.join(results_path, 'experiment_1')\n",
    "experiment_2_results_path = os.path.join(results_path, 'experiment_2')\n",
    "experiment_3_results_path = os.path.join(results_path, 'experiment_3')\n",
    "experiment_4_results_path = os.path.join(results_path, 'experiment_4')"
   ]
  },
  {
   "cell_type": "code",
   "execution_count": null,
   "metadata": {},
   "outputs": [],
   "source": [
    "os.makedirs(results_path, exist_ok=True)\n",
    "os.makedirs(experiment_1_results_path, exist_ok=True)\n",
    "os.makedirs(experiment_2_results_path, exist_ok=True)\n",
    "os.makedirs(experiment_3_results_path, exist_ok=True)\n",
    "os.makedirs(experiment_4_results_path, exist_ok=True)"
   ]
  },
  {
   "cell_type": "markdown",
   "metadata": {},
   "source": [
    "### Experiment 1: Paper's first experiment"
   ]
  },
  {
   "cell_type": "code",
   "execution_count": null,
   "metadata": {},
   "outputs": [],
   "source": [
    "grid_size = 10\n",
    "num_clusters = grid_size * grid_size\n",
    "points_per_cluster = 100\n",
    "center_distance = 4 * np.sqrt(2)\n",
    "\n",
    "repetitions = 1\n",
    "iterations = 100\n",
    "fuzzy_degree = 1.3\n",
    "harmonic_p = 3.5\n",
    "gem_cov_diagonal = 0.2\n",
    "threshold = 0.001"
   ]
  },
  {
   "cell_type": "code",
   "execution_count": null,
   "metadata": {},
   "outputs": [],
   "source": [
    "k_means = KMeans(num_clusters, iterations, repetitions)\n",
    "fuzzy_c_means = FuzzyCMeans(num_clusters, iterations, fuzzy_degree, threshold, repetitions)\n",
    "k_harmonic_means = KHarmonicMeans(num_clusters, iterations, harmonic_p, threshold, repetitions)\n",
    "gaussian_EM = GaussianEM(num_clusters, iterations, threshold, gem_cov_diagonal)\n",
    "hybrid_1 = Hybrid1(num_clusters, iterations, harmonic_p, threshold, repetitions)\n",
    "hybrid_2 = Hybrid2(num_clusters, iterations, harmonic_p, threshold, repetitions)"
   ]
  },
  {
   "cell_type": "code",
   "execution_count": null,
   "metadata": {},
   "outputs": [],
   "source": [
    "start_time = time.time()\n",
    "\n",
    "birch_data, _, true_cluster_centers = generate_birch_data(grid_size, center_distance, points_per_cluster)\n",
    "\n",
    "dist = np.linalg.norm(true_cluster_centers[1] - true_cluster_centers[0])\n",
    "cluster_radius = dist / 4\n",
    "\n",
    "experiment_1.perform_experiment_forgy(birch_data, true_cluster_centers, cluster_radius)\n",
    "experiment_1.perform_experiment_random_partition(birch_data, true_cluster_centers, cluster_radius)\n",
    "\n",
    "print(f'Time to run experiment 1: {(time.time() - start_time):.2f} seconds')"
   ]
  },
  {
   "cell_type": "markdown",
   "metadata": {},
   "source": [
    "### Experiment 2: Paper's second experiment"
   ]
  },
  {
   "cell_type": "markdown",
   "metadata": {},
   "source": [
    "### Experiment 3: Paper's hand semantic segmentation experiment"
   ]
  },
  {
   "cell_type": "markdown",
   "metadata": {},
   "source": [
    "### Experiment 4: Compare K-Harmonic Means with some Sklearn algorithms"
   ]
  },
  {
   "cell_type": "markdown",
   "metadata": {},
   "source": []
  }
 ],
 "metadata": {
  "language_info": {
   "name": "python"
  },
  "orig_nbformat": 4
 },
 "nbformat": 4,
 "nbformat_minor": 2
}
